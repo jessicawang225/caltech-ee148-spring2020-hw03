{
 "cells": [
  {
   "cell_type": "markdown",
   "metadata": {},
   "source": [
    "## Imports and Load + Split Data"
   ]
  },
  {
   "cell_type": "code",
   "execution_count": 8,
   "metadata": {},
   "outputs": [],
   "source": [
    "from __future__ import print_function\n",
    "import argparse\n",
    "import torch\n",
    "import numpy as np\n",
    "import torch.nn as nn\n",
    "import torch.nn.functional as F\n",
    "import torch.optim as optim\n",
    "from torchvision import datasets, transforms\n",
    "from torch.optim.lr_scheduler import StepLR\n",
    "from torch.utils.data.sampler import SubsetRandomSampler\n",
    "import os\n",
    "\n",
    "train_dataset = datasets.MNIST('../data', train=True, download=True,\n",
    "            transform=transforms.Compose([      \n",
    "                transforms.ToTensor(),           \n",
    "                transforms.Normalize((0.1307,), (0.3081,))\n",
    "            ]))\n",
    "\n",
    "test_dataset = datasets.MNIST('../data', train=False,\n",
    "            transform=transforms.Compose([\n",
    "                transforms.ToTensor(),\n",
    "                transforms.Normalize((0.1307,), (0.3081,))\n",
    "            ]))\n",
    "\n",
    "subset_indices_train = np.load('indices_train.npy')\n",
    "subset_indices_valid = np.load('indices_valid.npy')\n",
    "\n",
    "train_loader = torch.utils.data.DataLoader(\n",
    "    train_dataset, batch_size=64,\n",
    "    sampler=SubsetRandomSampler(subset_indices_train)\n",
    ")\n",
    "val_loader = torch.utils.data.DataLoader(\n",
    "    train_dataset, batch_size=64,\n",
    "    sampler=SubsetRandomSampler(subset_indices_valid)\n",
    ")\n",
    "\n",
    "test_loader = torch.utils.data.DataLoader(\n",
    "    test_dataset, batch_size=64, shuffle=True)\n"
   ]
  },
  {
   "cell_type": "markdown",
   "metadata": {},
   "source": [
    "## Default ConvNet with No Data Augmentation"
   ]
  },
  {
   "cell_type": "code",
   "execution_count": 24,
   "metadata": {},
   "outputs": [
    {
     "name": "stdout",
     "output_type": "stream",
     "text": [
      "Training set with no data augmentation\n",
      "\n",
      "Accuracy: 49807/51005 (98%)\n",
      "\n",
      "Validation set with no data augmentation\n",
      "\n",
      "Accuracy: 8797/8995 (98%)\n",
      "\n"
     ]
    }
   ],
   "source": [
    "class ConvNet(nn.Module):\n",
    "    '''\n",
    "    Design your model with convolutional layers.\n",
    "    '''\n",
    "    def __init__(self):\n",
    "        super(ConvNet, self).__init__()\n",
    "        self.conv1 = nn.Conv2d(in_channels=1, out_channels=8, kernel_size=(3,3), stride=1)\n",
    "        self.conv2 = nn.Conv2d(8, 8, 3, 1)\n",
    "        self.dropout1 = nn.Dropout2d(0.5)\n",
    "        self.dropout2 = nn.Dropout2d(0.5)\n",
    "        self.fc1 = nn.Linear(200, 64)\n",
    "        self.fc2 = nn.Linear(64, 10)\n",
    "\n",
    "    def forward(self, x):\n",
    "        x = self.conv1(x)\n",
    "        x = F.relu(x)\n",
    "        x = F.max_pool2d(x, 2)\n",
    "        x = self.dropout1(x)\n",
    "\n",
    "        x = self.conv2(x)\n",
    "        x = F.relu(x)\n",
    "        x = F.max_pool2d(x, 2)\n",
    "        x = self.dropout2(x)\n",
    "\n",
    "        x = torch.flatten(x, 1)\n",
    "        x = self.fc1(x)\n",
    "        x = F.relu(x)\n",
    "        x = self.fc2(x)\n",
    "\n",
    "        output = F.log_softmax(x, dim=1)\n",
    "        return output\n",
    "\n",
    "def test(model, test_loader):\n",
    "    model.eval()    \n",
    "    test_loss = 0\n",
    "    correct = 0\n",
    "    test_num = 0\n",
    "    with torch.no_grad(): \n",
    "        for data, target in test_loader:\n",
    "            output = model(data)\n",
    "            test_loss += F.nll_loss(output, target, reduction='sum').item()\n",
    "            pred = output.argmax(dim=1, keepdim=True) \n",
    "            correct += pred.eq(target.view_as(pred)).sum().item()\n",
    "            test_num += len(data)\n",
    "    test_loss /= test_num\n",
    "    print('\\nAccuracy: {}/{} ({:.0f}%)\\n'.format( correct, test_num, 100. * correct / test_num))\n",
    "    \n",
    "model = ConvNet()\n",
    "model.load_state_dict(torch.load('default_ConvNet.pt'))\n",
    "\n",
    "print(\"Training set with no data augmentation\")\n",
    "test(model, train_loader)\n",
    "print(\"Validation set with no data augmentation\")\n",
    "test(model, val_loader)"
   ]
  },
  {
   "cell_type": "markdown",
   "metadata": {},
   "source": [
    "## Default ConvNet with Data Augmentation (Random Perspective)"
   ]
  },
  {
   "cell_type": "code",
   "execution_count": 25,
   "metadata": {
    "scrolled": true
   },
   "outputs": [
    {
     "name": "stdout",
     "output_type": "stream",
     "text": [
      "Training set with data augmentation\n",
      "\n",
      "Accuracy: 38807/51005 (76%)\n",
      "\n",
      "Validation set with data augmentation\n",
      "\n",
      "Accuracy: 6850/8995 (76%)\n",
      "\n"
     ]
    }
   ],
   "source": [
    "train_dataset_aug = datasets.MNIST('../data', train=True, download=True,\n",
    "            transform=transforms.Compose([    \n",
    "                transforms.RandomPerspective(distortion_scale=0.5, p=0.5),\n",
    "                transforms.ToTensor(),           \n",
    "                transforms.Normalize((0.1307,), (0.3081,))\n",
    "            ]))\n",
    "\n",
    "subset_indices_train = np.load('indices_train.npy')\n",
    "subset_indices_valid = np.load('indices_valid.npy')\n",
    "\n",
    "train_loader_aug = torch.utils.data.DataLoader(\n",
    "    train_dataset_aug, batch_size=64,\n",
    "    sampler=SubsetRandomSampler(subset_indices_train)\n",
    ")\n",
    "val_loader_aug = torch.utils.data.DataLoader(\n",
    "    train_dataset_aug, batch_size=64,\n",
    "    sampler=SubsetRandomSampler(subset_indices_valid)\n",
    ")\n",
    "\n",
    "model = ConvNet()\n",
    "model.load_state_dict(torch.load('default_ConvNet.pt'))\n",
    "\n",
    "print(\"Training set with data augmentation\")\n",
    "test(model, train_loader_aug)\n",
    "print(\"Validation set with data augmentation\")\n",
    "test(model, val_loader_aug)"
   ]
  }
 ],
 "metadata": {
  "kernelspec": {
   "display_name": "Python 3",
   "language": "python",
   "name": "python3"
  },
  "language_info": {
   "codemirror_mode": {
    "name": "ipython",
    "version": 3
   },
   "file_extension": ".py",
   "mimetype": "text/x-python",
   "name": "python",
   "nbconvert_exporter": "python",
   "pygments_lexer": "ipython3",
   "version": "3.6.5"
  }
 },
 "nbformat": 4,
 "nbformat_minor": 4
}
